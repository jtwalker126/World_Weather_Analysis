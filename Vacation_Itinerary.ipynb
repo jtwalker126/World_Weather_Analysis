{
 "cells": [
  {
   "cell_type": "code",
   "execution_count": 2,
   "metadata": {},
   "outputs": [],
   "source": [
    "# Import the dependencies.\n",
    "import pandas as pd\n",
    "import gmaps\n",
    "import requests\n",
    "# Import the API key.\n",
    "from config import g_key"
   ]
  },
  {
   "cell_type": "code",
   "execution_count": 3,
   "metadata": {},
   "outputs": [
    {
     "data": {
      "text/html": [
       "<div>\n",
       "<style scoped>\n",
       "    .dataframe tbody tr th:only-of-type {\n",
       "        vertical-align: middle;\n",
       "    }\n",
       "\n",
       "    .dataframe tbody tr th {\n",
       "        vertical-align: top;\n",
       "    }\n",
       "\n",
       "    .dataframe thead th {\n",
       "        text-align: right;\n",
       "    }\n",
       "</style>\n",
       "<table border=\"1\" class=\"dataframe\">\n",
       "  <thead>\n",
       "    <tr style=\"text-align: right;\">\n",
       "      <th></th>\n",
       "      <th>City_ID</th>\n",
       "      <th>City</th>\n",
       "      <th>Country</th>\n",
       "      <th>Max Temp</th>\n",
       "      <th>Lat</th>\n",
       "      <th>Lng</th>\n",
       "      <th>Current Description</th>\n",
       "      <th>Hotel Name</th>\n",
       "    </tr>\n",
       "  </thead>\n",
       "  <tbody>\n",
       "    <tr>\n",
       "      <th>0</th>\n",
       "      <td>2</td>\n",
       "      <td>Atuona</td>\n",
       "      <td>PF</td>\n",
       "      <td>80.78</td>\n",
       "      <td>-9.80</td>\n",
       "      <td>-139.03</td>\n",
       "      <td>light rain</td>\n",
       "      <td>Villa Enata</td>\n",
       "    </tr>\n",
       "    <tr>\n",
       "      <th>1</th>\n",
       "      <td>6</td>\n",
       "      <td>Hilo</td>\n",
       "      <td>US</td>\n",
       "      <td>80.60</td>\n",
       "      <td>19.73</td>\n",
       "      <td>-155.09</td>\n",
       "      <td>overcast clouds</td>\n",
       "      <td>Hilo Hawaiian Hotel</td>\n",
       "    </tr>\n",
       "    <tr>\n",
       "      <th>2</th>\n",
       "      <td>7</td>\n",
       "      <td>Tay Ninh</td>\n",
       "      <td>VN</td>\n",
       "      <td>84.27</td>\n",
       "      <td>11.30</td>\n",
       "      <td>106.10</td>\n",
       "      <td>overcast clouds</td>\n",
       "      <td>Thanh Tuyền Hotel</td>\n",
       "    </tr>\n",
       "    <tr>\n",
       "      <th>3</th>\n",
       "      <td>11</td>\n",
       "      <td>Banda Aceh</td>\n",
       "      <td>ID</td>\n",
       "      <td>78.37</td>\n",
       "      <td>5.56</td>\n",
       "      <td>95.32</td>\n",
       "      <td>overcast clouds</td>\n",
       "      <td>OYO 884 Rumoh PMI Hotel</td>\n",
       "    </tr>\n",
       "    <tr>\n",
       "      <th>4</th>\n",
       "      <td>12</td>\n",
       "      <td>Jalu</td>\n",
       "      <td>LY</td>\n",
       "      <td>67.42</td>\n",
       "      <td>29.03</td>\n",
       "      <td>21.55</td>\n",
       "      <td>scattered clouds</td>\n",
       "      <td>Jalu Hotel</td>\n",
       "    </tr>\n",
       "  </tbody>\n",
       "</table>\n",
       "</div>"
      ],
      "text/plain": [
       "   City_ID        City Country  Max Temp    Lat     Lng Current Description  \\\n",
       "0        2      Atuona      PF     80.78  -9.80 -139.03          light rain   \n",
       "1        6        Hilo      US     80.60  19.73 -155.09     overcast clouds   \n",
       "2        7    Tay Ninh      VN     84.27  11.30  106.10     overcast clouds   \n",
       "3       11  Banda Aceh      ID     78.37   5.56   95.32     overcast clouds   \n",
       "4       12        Jalu      LY     67.42  29.03   21.55    scattered clouds   \n",
       "\n",
       "                Hotel Name  \n",
       "0              Villa Enata  \n",
       "1      Hilo Hawaiian Hotel  \n",
       "2        Thanh Tuyền Hotel  \n",
       "3  OYO 884 Rumoh PMI Hotel  \n",
       "4               Jalu Hotel  "
      ]
     },
     "execution_count": 3,
     "metadata": {},
     "output_type": "execute_result"
    }
   ],
   "source": [
    "# Store the CSV you saved created in part two of vacation preferences into a DataFrame.\n",
    "vacation_data_df = pd.read_csv(\"weather_data/data/WeatherPy_vacation.csv\")\n",
    "vacation_data_df.head()"
   ]
  },
  {
   "cell_type": "code",
   "execution_count": 4,
   "metadata": {},
   "outputs": [],
   "source": [
    "# configure gmaps to use Google API key\n",
    "gmaps.configure(api_key=g_key)"
   ]
  },
  {
   "cell_type": "code",
   "execution_count": 57,
   "metadata": {},
   "outputs": [],
   "source": [
    "info_box_template = \"\"\"\n",
    "<dl>\n",
    "<dt>Hotel Name</dt><dd>{Hotel Name}</dd>\n",
    "<dt>City</dt><dd>{City}</dd>\n",
    "<dt>Country</dt><dd>{Country}</dd>\n",
    "<dt>Current Weather</dt><dd>{Current Description} and {Max Temp} °F</dd>\n",
    "</dl>\n",
    "\"\"\""
   ]
  },
  {
   "cell_type": "code",
   "execution_count": 58,
   "metadata": {},
   "outputs": [],
   "source": [
    "# get data for infobox\n",
    "hotel_info = [info_box_template.format(**row) for index, row in vacation_data_df.iterrows()]"
   ]
  },
  {
   "cell_type": "code",
   "execution_count": 59,
   "metadata": {},
   "outputs": [
    {
     "data": {
      "application/vnd.jupyter.widget-view+json": {
       "model_id": "149fb18fc6f04fc1897b5b378262bdf7",
       "version_major": 2,
       "version_minor": 0
      },
      "text/plain": [
       "Figure(layout=FigureLayout(height='420px'))"
      ]
     },
     "metadata": {},
     "output_type": "display_data"
    }
   ],
   "source": [
    "# Plot of map with hotels in cities of customer prefernce and add information box\n",
    "# use this plot to selet 4 cities that we will make an intinerary for below\n",
    "# get latitude and longitute into an array for marker\n",
    "locations = vacation_data_df[[\"Lat\", \"Lng\"]]\n",
    "# assign figure variable\n",
    "fig = gmaps.figure(center=(30.0, 31.0), zoom_level=1.5)\n",
    "# add marker layer with locations\n",
    "marker_layer = gmaps.marker_layer(locations, info_box_content=hotel_info)\n",
    "fig.add_layer(marker_layer)\n",
    "# Call the figure to plot the data.\n",
    "fig"
   ]
  },
  {
   "cell_type": "code",
   "execution_count": 32,
   "metadata": {},
   "outputs": [],
   "source": [
    "# create a dataframe for each city that we select to map between\n",
    "salinas_df = vacation_data_df[vacation_data_df[\"City\"] == \"Salinas\"]\n",
    "pacific_grove_df = vacation_data_df[vacation_data_df[\"City\"] == \"Pacific Grove\"]\n",
    "lompoc_df = vacation_data_df[vacation_data_df[\"City\"] == \"Lompoc\"]\n",
    "meadow_lake_df = vacation_data_df[vacation_data_df[\"City\"] == \"Meadow Lake\"]"
   ]
  },
  {
   "cell_type": "code",
   "execution_count": 33,
   "metadata": {},
   "outputs": [
    {
     "data": {
      "text/html": [
       "<div>\n",
       "<style scoped>\n",
       "    .dataframe tbody tr th:only-of-type {\n",
       "        vertical-align: middle;\n",
       "    }\n",
       "\n",
       "    .dataframe tbody tr th {\n",
       "        vertical-align: top;\n",
       "    }\n",
       "\n",
       "    .dataframe thead th {\n",
       "        text-align: right;\n",
       "    }\n",
       "</style>\n",
       "<table border=\"1\" class=\"dataframe\">\n",
       "  <thead>\n",
       "    <tr style=\"text-align: right;\">\n",
       "      <th></th>\n",
       "      <th>City_ID</th>\n",
       "      <th>City</th>\n",
       "      <th>Country</th>\n",
       "      <th>Max Temp</th>\n",
       "      <th>Lat</th>\n",
       "      <th>Lng</th>\n",
       "      <th>Current Description</th>\n",
       "      <th>Hotel Name</th>\n",
       "    </tr>\n",
       "  </thead>\n",
       "  <tbody>\n",
       "    <tr>\n",
       "      <th>170</th>\n",
       "      <td>456</td>\n",
       "      <td>Salinas</td>\n",
       "      <td>US</td>\n",
       "      <td>66.99</td>\n",
       "      <td>36.68</td>\n",
       "      <td>-121.66</td>\n",
       "      <td>clear sky</td>\n",
       "      <td>Good Nite Inn Salinas Monterey</td>\n",
       "    </tr>\n",
       "    <tr>\n",
       "      <th>149</th>\n",
       "      <td>389</td>\n",
       "      <td>Pacific Grove</td>\n",
       "      <td>US</td>\n",
       "      <td>66.99</td>\n",
       "      <td>36.62</td>\n",
       "      <td>-121.92</td>\n",
       "      <td>clear sky</td>\n",
       "      <td>Lovers Point Inn</td>\n",
       "    </tr>\n",
       "    <tr>\n",
       "      <th>84</th>\n",
       "      <td>222</td>\n",
       "      <td>Lompoc</td>\n",
       "      <td>US</td>\n",
       "      <td>66.99</td>\n",
       "      <td>34.64</td>\n",
       "      <td>-120.46</td>\n",
       "      <td>overcast clouds</td>\n",
       "      <td>Holiday Inn Express Lompoc</td>\n",
       "    </tr>\n",
       "    <tr>\n",
       "      <th>27</th>\n",
       "      <td>79</td>\n",
       "      <td>Meadow Lake</td>\n",
       "      <td>US</td>\n",
       "      <td>82.40</td>\n",
       "      <td>34.80</td>\n",
       "      <td>-106.54</td>\n",
       "      <td>clear sky</td>\n",
       "      <td>JKL Inc. R.V Park and Storage</td>\n",
       "    </tr>\n",
       "  </tbody>\n",
       "</table>\n",
       "</div>"
      ],
      "text/plain": [
       "     City_ID           City Country  Max Temp    Lat     Lng  \\\n",
       "170      456        Salinas      US     66.99  36.68 -121.66   \n",
       "149      389  Pacific Grove      US     66.99  36.62 -121.92   \n",
       "84       222         Lompoc      US     66.99  34.64 -120.46   \n",
       "27        79    Meadow Lake      US     82.40  34.80 -106.54   \n",
       "\n",
       "    Current Description                      Hotel Name  \n",
       "170           clear sky  Good Nite Inn Salinas Monterey  \n",
       "149           clear sky                Lovers Point Inn  \n",
       "84      overcast clouds      Holiday Inn Express Lompoc  \n",
       "27            clear sky   JKL Inc. R.V Park and Storage  "
      ]
     },
     "execution_count": 33,
     "metadata": {},
     "output_type": "execute_result"
    }
   ],
   "source": [
    "# create a combined dataframe with 4 cities to travel between\n",
    "vacation_itinerary_df = salinas_df.append(pacific_grove_df)\n",
    "vacation_itinerary_df = vacation_itinerary_df.append(lompoc_df)\n",
    "vacation_itinerary_df = vacation_itinerary_df.append(meadow_lake_df)\n",
    "vacation_itinerary_df"
   ]
  },
  {
   "cell_type": "code",
   "execution_count": 34,
   "metadata": {},
   "outputs": [],
   "source": [
    "#Pull latitude and longitude pairs for each city\n",
    "salinas = (vacation_itinerary_df.loc[170].at[\"Lat\"], vacation_intinerary_df.loc[170].at[\"Lng\"])\n",
    "pacific_grove = (vacation_itinerary_df.loc[149].at[\"Lat\"], vacation_intinerary_df.loc[149].at[\"Lng\"])\n",
    "lompoc = (vacation_itinerary_df.loc[84].at[\"Lat\"], vacation_intinerary_df.loc[84].at[\"Lng\"])\n",
    "meadow_lake = (vacation_itinerary_df.loc[27].at[\"Lat\"], vacation_intinerary_df.loc[27].at[\"Lng\"])\n"
   ]
  },
  {
   "cell_type": "code",
   "execution_count": 35,
   "metadata": {},
   "outputs": [],
   "source": [
    "#import dependencies\n",
    "import gmaps.datasets"
   ]
  },
  {
   "cell_type": "code",
   "execution_count": 39,
   "metadata": {},
   "outputs": [
    {
     "data": {
      "application/vnd.jupyter.widget-view+json": {
       "model_id": "38ee2b5d52334fc6b65d1d2913a978b8",
       "version_major": 2,
       "version_minor": 0
      },
      "text/plain": [
       "Figure(layout=FigureLayout(height='420px'))"
      ]
     },
     "metadata": {},
     "output_type": "display_data"
    }
   ],
   "source": [
    "# Create travel map with directions\n",
    "# assign figure variable\n",
    "fig = gmaps.figure(center=(30.0, 31.0), zoom_level=1.5)\n",
    "# add marker layer with locations\n",
    "itinerary = gmaps.directions_layer(\n",
    "            salinas, meadow_lake, \n",
    "            waypoints=[pacific_grove, lompoc], \n",
    "            travel_mode = \"DRIVING\")\n",
    "fig.add_layer(itinerary)\n",
    "# Call the figure to plot the data.\n",
    "fig"
   ]
  },
  {
   "cell_type": "code",
   "execution_count": 40,
   "metadata": {},
   "outputs": [],
   "source": [
    "# information for info box template\n",
    "info_box_template = \"\"\"\n",
    "<dl>\n",
    "<dt>Hotel Name</dt><dd>{Hotel Name}</dd>\n",
    "<dt>City</dt><dd>{City}</dd>\n",
    "<dt>Country</dt><dd>{Country}</dd>\n",
    "<dt>Current Weather</dt><dd>{Current Description} and {Max Temp} °F</dd>\n",
    "</dl>\n",
    "\"\"\""
   ]
  },
  {
   "cell_type": "code",
   "execution_count": 41,
   "metadata": {},
   "outputs": [],
   "source": [
    "# get data for infobox\n",
    "itinerary_info = [info_box_template.format(**row) for index, row in vacation_itinerary_df.iterrows()]"
   ]
  },
  {
   "cell_type": "code",
   "execution_count": 56,
   "metadata": {},
   "outputs": [
    {
     "data": {
      "application/vnd.jupyter.widget-view+json": {
       "model_id": "1b570a01f0d248afbc4235135f6d0380",
       "version_major": 2,
       "version_minor": 0
      },
      "text/plain": [
       "Figure(layout=FigureLayout(height='420px'))"
      ]
     },
     "metadata": {},
     "output_type": "display_data"
    }
   ],
   "source": [
    "# Plot map but with marker information\n",
    "# get latitude and longitute into an array for marker\n",
    "locations = vacation_itinerary_df[[\"Lat\", \"Lng\"]]\n",
    "# assign figure variable\n",
    "fig = gmaps.figure(center=(36.0, -115.0), zoom_level=5)\n",
    "# add marker layer with locations\n",
    "marker_layer = gmaps.marker_layer(locations, info_box_content=itinerary_info)\n",
    "fig.add_layer(marker_layer)\n",
    "# Call the figure to plot the data.\n",
    "fig"
   ]
  },
  {
   "cell_type": "code",
   "execution_count": null,
   "metadata": {},
   "outputs": [],
   "source": []
  }
 ],
 "metadata": {
  "kernelspec": {
   "display_name": "PythonData",
   "language": "python",
   "name": "pythondata"
  },
  "language_info": {
   "codemirror_mode": {
    "name": "ipython",
    "version": 3
   },
   "file_extension": ".py",
   "mimetype": "text/x-python",
   "name": "python",
   "nbconvert_exporter": "python",
   "pygments_lexer": "ipython3",
   "version": "3.7.6"
  }
 },
 "nbformat": 4,
 "nbformat_minor": 4
}
